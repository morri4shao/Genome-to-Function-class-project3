{
 "cells": [
  {
   "cell_type": "markdown",
   "id": "bff91b09",
   "metadata": {},
   "source": [
    "# Exercises Week 11-12: Graded exercise session (part B)\n",
    "\n",
    "**Course**: [Life Sciences engineering: genome to function](https://go.epfl.ch/BIO-411) (BIO-411)\n",
    "\n",
    "**Professors**:  _Gönczy Pierre_, _Naef Felix_, _McCabe Brian Donal_\n",
    "\n",
    "SSV, MA, 2023-2024"
   ]
  },
  {
   "cell_type": "code",
   "execution_count": 1,
   "id": "867ce50e",
   "metadata": {},
   "outputs": [],
   "source": [
    "import pandas as pd\n",
    "import numpy as np\n",
    "from sklearn.decomposition import PCA\n",
    "import plotly.express as px\n",
    "import matplotlib.pyplot as plt\n",
    "from sklearn.preprocessing import scale\n",
    "\n",
    "from scipy.integrate import odeint\n",
    "import matplotlib.pyplot as plt\n",
    "from ipywidgets import interact, fixed\n",
    "from scipy.stats import beta\n",
    "import math"
   ]
  },
  {
   "cell_type": "markdown",
   "id": "e04f778e",
   "metadata": {},
   "source": [
    "**Provide answers in the form of code, figures (if relevant) and short descriptions (in markdown cells) in those notebooks. Submit your notebook to Moodle, please make sure to execute every cell.**"
   ]
  },
  {
   "cell_type": "markdown",
   "id": "c4dcb272",
   "metadata": {},
   "source": [
    "### Exercise 1: Simulation of circadian gene regulation"
   ]
  },
  {
   "cell_type": "markdown",
   "id": "ecaa0b5a",
   "metadata": {},
   "source": [
    "In this exercise, we revisit and extend the concepts from Week 9, focusing on the transcription and splicing of a pre-mRNA to produce mRNA. We describe this process using a two-dimensional Ordinary Differential Equation (ODE), similar to our previous approach but with a key difference: we now incorporate **time-dependent** transcription and degradation rates to model circadian rhythms.\n",
    "\n",
    "The system is defined by the following ODEs:\n",
    "\n",
    "\\begin{array}{ll}\n",
    "\\frac{dP}{dt} = s(t) - \\rho P \\\\  \n",
    "\\\\\n",
    "\\frac{dM}{dt} = \\rho P - k(t) M \\\\\n",
    "\\end{array}\n",
    "\n",
    "where  $P$ and $M$ represent the concentrations of pre-mRNA and mRNA, respectively. We will consider time-dependent (circadian) transcription and degradation rates. The frequency is defined by $\\omega=\\frac{2\\pi}{T}$ with $T=24h$.  \n",
    "\n",
    "$s(t)$ is the transcription rate, which is now taken either as constant $s(t)=s_{0}$ or as a rhythmic function of time:  \n",
    "\n",
    "\\begin{equation*}\n",
    "s(t) = s_0(1 + \\epsilon_s \\cos(\\omega t)) \n",
    "\\end{equation*}  \n",
    "with relative amplitude $0\\leq \\epsilon_s\\leq 1$. Note that the peak of $s(t)$ is at $t=0$.  \n",
    " \n",
    "Similarly, we will consider the degradation rate $k(t)$ either as constant $k(t)= k_0$ or a rhythmic function of time:  \n",
    "\\begin{equation*}\n",
    "k(t)=k_0(1 + \\epsilon_k \\cos(\\omega (t-t_k))\n",
    "\\end{equation*}  \n",
    "with $0\\leq\\epsilon_k\\leq 1$, and the maximum degradation rate at $t=t_k$.\n",
    "\n",
    "$\\rho$ represents the constant splicing rate of pre-mRNA $P$ into mRNA $M$."
   ]
  },
  {
   "cell_type": "markdown",
   "id": "ebecf369",
   "metadata": {},
   "source": [
    "### Question 1\n",
    "1. Adapt the code from Week 9 exercises to simulate this system with rhythmic transcription and degradation rates. Modify the interactive widget such that you can vary the new parameters and plot $P(t)$ and $M(t)$.  \n",
    "\n",
    "2. Keep the degradation rate constant (set $\\epsilon_k$=0) and vary $k_0$ and $\\epsilon_s$.\n",
    "    * How does the phase delay between $M(t)$ and $P(t)$ changes with different values of $k_0$?\n",
    "    * How does the amplitude (use the ratio between max and min) of $M(t)$ changes with different values of $k_0$? \n",
    "    \n",
    "    Make sure you span a relevant range for $k_0^{-1}$ ( *i.e.* from 10 minutes to several hours).  \n",
    "\n",
    "3. Now introduce rhythmic degradation by varying $\\epsilon_k$. \n",
    "    * Show that you can obtain a rhyhtmic mRNA accumulatiokn when the synthesis is constant ($\\epsilon_s=0$). \n",
    "    * Explore and discuss scenarios where the introduction of rhythmic degradation leads to dynamics that cannot be achieved with a constant half-life.  \n",
    "    \n",
    "    See also [Wang et al., 2018](https://www.pnas.org/doi/10.1073/pnas.1715225115)."
   ]
  },
  {
   "cell_type": "code",
   "execution_count": 4,
   "metadata": {},
   "outputs": [],
   "source": [
    "def production_decay_ode(y, time, rho, s0, es, k0, ek, tk ):\n",
    "\n",
    "    \"\"\"\n",
    "    Defines the ODEs for the production and decay of pre-mRNA and mRNA.\n",
    "    P: pre-mRNA concentration\n",
    "    M: mRNA concentration\n",
    "    st: transcription rate (time dependent)\n",
    "    kt: mRNA degradation rate (time dependent)\n",
    "    rho: splicing rate\n",
    "    s0: transcription constant\n",
    "    es: relative amplitude of the transcription rate oscillation\n",
    "    ek: relative amplitude of the mRNA degradation rate oscillation\n",
    "    k0: degradation constant\n",
    "    time: time point (in minutes)\n",
    "    tk: max degrade rate\n",
    "\n",
    "    #kp: pre-mRNA degradation rate\n",
    "    #km: mRNA degradation rate\n",
    "    #tau: protein synthesis rate\n",
    "    #kg: protein degradation rate\n",
    "    \"\"\"\n",
    "    omega = 2*np.pi/(24*60)\n",
    "    P, M = y\n",
    "    st = s0*(1+es*math.cos(omega*time))\n",
    "    kt = k0*(1+ek*math.cos(omega*(time-tk)))\n",
    "    dPdt = st - rho*P\n",
    "    dMdt = rho*P - kt*M\n",
    "    return [dPdt, dMdt] \n",
    "\n",
    "def simulation(ode_function, parameters, initial_conditions = None, time = None):\n",
    "\n",
    "    \"\"\"\n",
    "    Simulate the ODEs for the production and decay of pre-mRNA and mRNA.\n",
    "    parameters: parameters for the ODEs\n",
    "    initial_conditions: initial conditions for the ODEs\n",
    "    time: time intervals for the simulation\n",
    "   \n",
    "    s = parameters['s']\n",
    "    kp = parameters['kp']\n",
    "    km = parameters['km']\n",
    "    rho = parameters['rho']\n",
    "    tau = parameters['tau']\n",
    "    kg = parameters['kg']\n",
    "    \"\"\"\n",
    "    \n",
    "    \n",
    "    \n",
    "    rho= parameters['rho']\n",
    "    s0= parameters['s0']\n",
    "    es= parameters['es']\n",
    "    k0= parameters['k0']\n",
    "    ek= parameters['ek']\n",
    "    #time= parameters['time']\n",
    "    tk= parameters['tk']\n",
    "    \n",
    "    #omega = 2*np.pi/(24*60)\n",
    "    #st = s0*(1+es*math.cos(omega*time))\n",
    "    #kt = k0*(1+ek*math.cos(omega*(time-tk)))\n",
    "    # Placeholder for adding steady-state solutions\n",
    "\n",
    "    P_ss = s0 / rho #Add your steady-state solution for P here \n",
    "    M_ss = s0 / k0 #Add you steady-state solution for M here\n",
    "    \n",
    "    #results = odeint(ode_function, initial_conditions, time, args=(rho, s0, es, k0, ek, tk))\n",
    "    results = odeint(ode_function, initial_conditions, time, args=(rho, s0, es, k0, ek, tk))\n",
    "\n",
    "    plt.figure(figsize=(10, 6))\n",
    "    plt.ylim([0,150])\n",
    "\n",
    "    # Uncomment the lines below after adding your steady-state solutions\n",
    "    plt.axhline(y=P_ss, color='blue', linestyle='--', label='P_ss')  \n",
    "    plt.axhline(y=M_ss, color='orange', linestyle='--', label='M_ss')\n",
    "\n",
    "    plt.title('Simulation of pre-mRNA and mRNA Production-Decay Dynamics')\n",
    "    plt.plot(time, results[:, 0], label = 'P(t)', linewidth=2)\n",
    "    plt.plot(time, results[:, 1], label = 'M(t)', linewidth=2)\n",
    "    plt.legend()\n",
    "\n",
    "    plt.xlabel(\"Time [min]\")\n",
    "    plt.ylabel(\"Concentration\")\n",
    "    plt.legend(loc='upper left')\n",
    "    plt.show()\n",
    "    \n",
    "def animate(initial_conditions, time, rho=0.4, s0=5, es=1, k0=0.05, ek=1, tk=0.5 ):\n",
    "    \"\"\"\n",
    "    Runs the simulation with an interactive widgets for parameter exploration.\n",
    "    \"\"\"\n",
    "    #args=(rho, s0, es, k0, ek, time, tk )\n",
    "    parameters = {'rho':rho, 's0':s0, 'es':es, 'k0':k0, 'ek':ek, 'tk':tk}\n",
    "    simulation(production_decay_ode, parameters, initial_conditions, time)\n"
   ]
  },
  {
   "cell_type": "code",
   "execution_count": 5,
   "metadata": {},
   "outputs": [
    {
     "data": {
      "application/vnd.jupyter.widget-view+json": {
       "model_id": "3baafac4cf7a4c3aad96f645ede978fe",
       "version_major": 2,
       "version_minor": 0
      },
      "text/plain": [
       "interactive(children=(FloatSlider(value=0.4, description='rho', max=1.0), FloatSlider(value=5.0, description='…"
      ]
     },
     "metadata": {},
     "output_type": "display_data"
    }
   ],
   "source": [
    "# Define initial conditions and time intervals for the simulation\n",
    "initial_conditions = [0, 0] #[P, M, G]\n",
    "time = np.linspace(0, 500, 10001)\n",
    "\n",
    "interact(animate, \n",
    "         initial_conditions=fixed(initial_conditions), \n",
    "         time=fixed(time), \n",
    "        rho=(0, 1, 0.1),\n",
    "        s0=(0, 10, 0.1),\n",
    "        es=(0, 1, 0.1),\n",
    "        k0=(1/600,1/10,1/1000),\n",
    "        ek=(0, 1, 0.1),\n",
    "        tk=(0, 1, 0.1));"
   ]
  },
  {
   "cell_type": "markdown",
   "id": "94467283",
   "metadata": {},
   "source": [
    "### Exercise 2: Circadian (post-)transcriptional regulation of gene expression in mouse liver"
   ]
  },
  {
   "cell_type": "markdown",
   "id": "5d4c6d92",
   "metadata": {},
   "source": [
    "In this exercise, we will analyse published RNA-seq data from mouse liver under an *ad libitum* feeding regimen and in presence of a 12-hour light-dark cycle ([Atger et al., 2015](https://www.pnas.org/doi/abs/10.1073/pnas.1515308112)). The samples were harvested every 2 hours in four replicates, RNA was extracted and sequenced. Similarly to Week 9 exercises on RNA-seq data, gene expression was quantified at the intron and exon levels. Note that data are $log_2$ transformed and normalized (RPKM)."
   ]
  },
  {
   "cell_type": "markdown",
   "id": "fcf58338",
   "metadata": {},
   "source": [
    "### Question 1\n",
    "1. Modify the code from Week 9 exercises to perform PCA using the 14 following genes (core clock genes and selected clock output genes):  \n",
    " ``['Arntl', 'Npas2', 'Clock', 'Cry1', 'Cry2', 'Per1', 'Per2', 'Per3', 'Nr1d1', 'Nr1d2', 'Rora', 'Rorc', 'Tef', 'Dbp']``.  \n",
    " First start with only the exons, then only the introns, and eventually both. Describe your observations.  \n",
    "\n",
    "2. Use the *return_amp_phase_pv* function on the $log_2$ data to assess and characterize rhythmicity genome-wide.\n",
    "    * Select genes based on p-value ($p<0.01) and amplitude (log2 fold-change>0.5) thresholds for further analysis.\n",
    "    * Provide histograms of the peak times, and amplitudes ($log_2$ peak-to-trough) for the selected genes.\n",
    "    * Perform this analysis separately for the exons and introns.\n",
    "    * Examine whether you observe patterns typically referred to as the 'morning' and 'evening' waves of gene expression.\n",
    "    \n",
    "3. Determine which genes show the highest amplitude rhythmic patterns. Are there any common themes or characteristics among these genes?"
   ]
  },
  {
   "cell_type": "markdown",
   "id": "d725b9ef",
   "metadata": {},
   "source": [
    "#### Load the RNA-seq data"
   ]
  },
  {
   "cell_type": "code",
   "execution_count": null,
   "id": "0a51a74b",
   "metadata": {},
   "outputs": [],
   "source": [
    "dat = pd.read_csv(\"./GSE73554_WT_AL_Intron_Exon_RFP.txt\",sep='\\t')\n",
    "dat.index = dat['Gene_Symbol']\n",
    "dat = dat.drop(['Gene_Symbol','Gene_Ensembl'], axis=1)\n",
    "dat.columns = dat.columns.str.split('_', expand = True)\n",
    "dat.columns.names = ['condition','feeding','feature','time','replicate']\n",
    "\n",
    "dat.head()"
   ]
  },
  {
   "cell_type": "markdown",
   "id": "18464198",
   "metadata": {},
   "source": [
    "#### Assess rhythmicity"
   ]
  },
  {
   "cell_type": "code",
   "execution_count": null,
   "id": "86c02887",
   "metadata": {},
   "outputs": [],
   "source": [
    "# Function to infer the p-value, phase, amplitude and mean from a time-serie y with size N, period T and sampling Ts. \n",
    "def return_amp_phase_pv(y, Ts, T, N):\n",
    "    \n",
    "    \"\"\"\n",
    "    Perform harmonic regression using a Fourier series to infer the amplitude, phase, p-value, and mean from a time series.\n",
    "\n",
    "    Parameters:\n",
    "    y: Time series data.\n",
    "    Ts: Sampling interval.\n",
    "    T: Period of the time series.\n",
    "    N: Number of data points in the time series.\n",
    "\n",
    "    Returns:\n",
    "    tuple: A tuple containing amplitude, phase, p-value, and mean of the time series.\n",
    "\n",
    "    Notes:\n",
    "    - The function uses Fast Fourier Transform (FFT) to decompose the time series.\n",
    "    - Harmonic regression is performed to fit a cosine wave to the data.\n",
    "    - The p-value is calculated based on the fit statistics, providing an estimate of the fit quality.\n",
    "    \"\"\"\n",
    "      \n",
    "    # Time vector for the series\n",
    "    t = np.linspace(0.0, N * Ts, N)\n",
    "\n",
    "    # Fourier Transform\n",
    "    x_fft = np.fft.fft(y)\n",
    "    freq = np.fft.fftfreq(len(y), d=Ts)\n",
    "\n",
    "    # Identify the frequency closest to 1/T\n",
    "    index, = np.where(np.isclose(freq, 1/T, atol=0.005))\n",
    "\n",
    "    # Calculate amplitude and phase\n",
    "    amp = 4 / N * np.abs(x_fft[index[0]])\n",
    "    phase = T * np.arctan2(-x_fft[index[0]].imag, x_fft[index[0]].real) / (2 * np.pi)\n",
    "\n",
    "    # Mean of the time series\n",
    "    mu = 1 / N * x_fft[0].real\n",
    "    \n",
    "    # Harmonic regression to compute residuals and statistics\n",
    "    x_hat = mu + 0.5 * amp * np.cos(2 * np.pi / T * t - 2 * np.pi * phase / T)\n",
    "    res = y - x_hat\n",
    "    sig2_1 = np.var(res)\n",
    "    sig2 = np.var(y)\n",
    "    R2 = 1 - sig2_1 / sig2\n",
    "\n",
    "    # Compute p-value\n",
    "    p = 3\n",
    "    pval = 1 - beta.cdf(R2, (p - 1) / 2, (N - p) / 2)\n",
    "\n",
    "    # Adjust phase to be within [0, T]\n",
    "    if phase < 0:\n",
    "        phase += T\n",
    "        \n",
    "    return amp, phase, pval, mu"
   ]
  },
  {
   "cell_type": "code",
   "execution_count": null,
   "id": "9ea44eb2",
   "metadata": {},
   "outputs": [],
   "source": [
    "def process_data(data, feature_type, Ts, T, N):\n",
    "    \"\"\"\n",
    "    Applies the return_amp_phase_pv function to all genes for a given feature type (intron or exon).\n",
    "\n",
    "    Parameters:\n",
    "    data: The dataset containing gene expression data.\n",
    "    feature_type: Type of feature to process ('Intron' or 'Exon').\n",
    "    Ts: Sampling time.\n",
    "    T: Period.\n",
    "    N: Number of samples.\n",
    "\n",
    "    Returns:\n",
    "    dict: A dictionary containing arrays for amplitude, phase, p-value, and mean for the specified feature type.\n",
    "    \"\"\"\n",
    "\n",
    "    feature_pos = data.columns.get_level_values('feature').isin([feature_type])\n",
    "    results = {'amp': [], 'phase': [], 'pv': [], 'mu': []}\n",
    "\n",
    "    for _, row in data.iterrows():\n",
    "        a, p, pv, mu = return_amp_phase_pv(np.array(row)[feature_pos], Ts, T, N)\n",
    "        results['amp'].append(a)\n",
    "        results['phase'].append(p)\n",
    "        results['pv'].append(pv)\n",
    "        results['mu'].append(mu)\n",
    "\n",
    "    # Convert lists to numpy arrays\n",
    "    for key in results:\n",
    "        results[key] = np.array(results[key])\n",
    "\n",
    "    return results\n"
   ]
  },
  {
   "cell_type": "markdown",
   "id": "b6b75841",
   "metadata": {},
   "source": [
    "#### Helper functions"
   ]
  },
  {
   "cell_type": "code",
   "execution_count": null,
   "id": "477fd66e",
   "metadata": {},
   "outputs": [],
   "source": [
    "# Apply the function to both intron and exon data\n",
    "Ts = 2.0\n",
    "T = 24\n",
    "N = 48\n",
    "\n",
    "results_intron = process_data(dat, 'Intron', Ts, T, N)\n",
    "results_exon = process_data(dat, 'Exon', Ts, T, N)\n",
    "\n",
    "# Select rhythmic genes based on p-value for example\n",
    "ii=np.logical_and(results_intron['pv'] < 0.05,results_exon['pv'] < 0.05)\n",
    "#... \n",
    "#...\n",
    "\n",
    "#Perform the different plots\n"
   ]
  },
  {
   "cell_type": "markdown",
   "id": "de1c6f26",
   "metadata": {},
   "source": [
    "### Question 2\n",
    "1. Related to Exercise 1, study the phase relationship between the pre-mRNA and mRNA for genes that exhibit rhythmic behavior at both the pre-mRNA and mRNA levels. Use appropriate cutoffs in your analysis to select a subset of genes that are rhythmic at both the pre-mRNA and mRNA levels. Aim to include several hundred genes for a robust analysis. \n",
    "\n",
    "2. Show representative profiles of genes with short or large delays.  \n",
    "\n",
    "3. Investigate (e.g. use a scatter plot) the relation between the phase difference between pre-mRNA and mRNA and the amplitude ratio (log2 fold change) of pre-mRNA and mRNA.\n",
    "    * Discuss the plot? E.g. Mark some outliers with their gene names. *Hint*: Identify genes that show exceptionally large/small phase differences or amplitude ratios compared to the general trend. \n",
    "\n"
   ]
  }
 ],
 "metadata": {
  "kernelspec": {
   "display_name": "Python 3 (ipykernel)",
   "language": "python",
   "name": "python3"
  },
  "language_info": {
   "codemirror_mode": {
    "name": "ipython",
    "version": 3
   },
   "file_extension": ".py",
   "mimetype": "text/x-python",
   "name": "python",
   "nbconvert_exporter": "python",
   "pygments_lexer": "ipython3",
   "version": "3.9.18"
  }
 },
 "nbformat": 4,
 "nbformat_minor": 5
}
